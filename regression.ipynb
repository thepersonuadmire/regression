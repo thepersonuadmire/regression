{
  "nbformat": 4,
  "nbformat_minor": 0,
  "metadata": {
    "colab": {
      "provenance": [],
      "authorship_tag": "ABX9TyO0c8XfE0YPmdGpUcxKsGRd",
      "include_colab_link": true
    },
    "kernelspec": {
      "name": "python3",
      "display_name": "Python 3"
    },
    "language_info": {
      "name": "python"
    }
  },
  "cells": [
    {
      "cell_type": "markdown",
      "metadata": {
        "id": "view-in-github",
        "colab_type": "text"
      },
      "source": [
        "<a href=\"https://colab.research.google.com/github/thepersonuadmire/regression/blob/main/regression.ipynb\" target=\"_parent\"><img src=\"https://colab.research.google.com/assets/colab-badge.svg\" alt=\"Open In Colab\"/></a>"
      ]
    },
    {
      "cell_type": "markdown",
      "source": [
        "1. Simple Linear Regression is a statistical method used to model the relationship between a dependent variable (Y) and an independent variable (X) using a linear equation."
      ],
      "metadata": {
        "id": "Dk7yG9Dnb49o"
      }
    },
    {
      "cell_type": "markdown",
      "source": [
        "2.\n",
        "*   Linearity\n",
        "*   Independence\n",
        "*   Homoscedasticity (constant variance of errors)\n",
        "*   Normality of residuals\n",
        "*   No multicollinearity (for multiple regression)"
      ],
      "metadata": {
        "id": "KYY7kUdLb-uj"
      }
    },
    {
      "cell_type": "markdown",
      "source": [
        "3. Y=mX+c?\n",
        "\n",
        "𝑚 is the slope of the regression line, representing the rate of change in\n",
        "𝑌 for a one-unit change in\n",
        "𝑋."
      ],
      "metadata": {
        "id": "Djh46Fa-cGC1"
      }
    },
    {
      "cell_type": "markdown",
      "source": [
        "4. 𝑌 = 𝑚𝑋+𝑐\n",
        "\n",
        "𝑐 is the point where the regression line crosses the Y-axis, representing the value of 𝑌 when 𝑋=0."
      ],
      "metadata": {
        "id": "02w8hqgFcVcf"
      }
    },
    {
      "cell_type": "markdown",
      "source": [
        "5. [ m = \\frac{N(\\sum xy) - (\\sum x)(\\sum y)}{N(\\sum x^2) - (\\sum x)^2} ]\n",
        "\n",
        "Where:\n",
        "\n",
        "( N ) is the number of data points.\n",
        "\n",
        "( \\sum xy ) is the sum of the product of each pair of ( x ) and ( y ) values.\n",
        "\n",
        "( \\sum x ) is the sum of all ( x ) values.\n",
        "\n",
        "( \\sum y ) is the sum of all ( y ) values.\n",
        "\n",
        "( \\sum x^2 ) is the sum of the squares of all ( x ) values."
      ],
      "metadata": {
        "id": "F-3X-f2Vc38z"
      }
    },
    {
      "cell_type": "markdown",
      "source": [
        "6. The least squares method minimizes the sum of squared residuals (differences between observed and predicted values) to find the best-fitting line."
      ],
      "metadata": {
        "id": "wjOlZrIHdTww"
      }
    },
    {
      "cell_type": "markdown",
      "source": [
        "7. R^2 represents the proportion of variance in 𝑌 explained by 𝑋 indicating model effectiveness."
      ],
      "metadata": {
        "id": "65ir8zYpdYtq"
      }
    },
    {
      "cell_type": "markdown",
      "source": [
        "8. Multiple Linear Regression models the relationship between one dependent variable and two or more independent variables."
      ],
      "metadata": {
        "id": "remLpSrDd25g"
      }
    },
    {
      "cell_type": "markdown",
      "source": [
        "9. Simple regression has one independent variable, while multiple regression has two or more."
      ],
      "metadata": {
        "id": "AUGnoCHld7R8"
      }
    },
    {
      "cell_type": "markdown",
      "source": [
        "10.\n",
        "*   Linearity\n",
        "*   Independence\n",
        "*   Homoscedasticity\n",
        "*   Normality of residuals\n",
        "*   No multicollinearity\n",
        "\n",
        "\n",
        "\n",
        "\n",
        "\n",
        "\n",
        "\n",
        "\n"
      ],
      "metadata": {
        "id": "D4u594gMd-vo"
      }
    },
    {
      "cell_type": "markdown",
      "source": [
        "11. Heteroscedasticity occurs when error variances are unequal, leading to inefficient estimates and unreliable significance tests."
      ],
      "metadata": {
        "id": "m3tbfPjeefPQ"
      }
    },
    {
      "cell_type": "markdown",
      "source": [
        "12.\n",
        "\n",
        "*  Remove correlated variables\n",
        "*   Use Principal Component Analysis (PCA)\n",
        "*   Apply Ridge or Lasso regression\n",
        "\n",
        "\n",
        "\n",
        "\n"
      ],
      "metadata": {
        "id": "HS9bVA4qejMS"
      }
    },
    {
      "cell_type": "markdown",
      "source": [
        "13.\n",
        "\n",
        "*   One-hot encoding\n",
        "*  Label encoding\n",
        "*   Dummy variables\n",
        "\n",
        "\n"
      ],
      "metadata": {
        "id": "DTOIQweGe3B7"
      }
    },
    {
      "cell_type": "markdown",
      "source": [
        "14. Interaction terms capture the combined effect of two or more variables on the dependent variable."
      ],
      "metadata": {
        "id": "K_C4u3yEfFPW"
      }
    },
    {
      "cell_type": "markdown",
      "source": [
        "15. In multiple regression, the intercept represents 𝑌 when all independent variables are zero, which may not always be meaningful."
      ],
      "metadata": {
        "id": "W0qKGtQVfL9g"
      }
    },
    {
      "cell_type": "markdown",
      "source": [
        "16. The slope determines the strength and direction of the relationship between an independent and dependent variable."
      ],
      "metadata": {
        "id": "LAjGNZQFfSMp"
      }
    },
    {
      "cell_type": "markdown",
      "source": [
        "17. It represents the baseline value of the dependent variable when all independent variables are zero."
      ],
      "metadata": {
        "id": "B11vHcXtfWRZ"
      }
    },
    {
      "cell_type": "markdown",
      "source": [
        "18.\n",
        "\n",
        "*  Doesn't indicate causation\n",
        "*   Can be misleading in overfitting cases\n",
        "*  Doesn't account for model complexity\n",
        "\n",
        "\n"
      ],
      "metadata": {
        "id": "o3I3xAAYfZ7L"
      }
    },
    {
      "cell_type": "markdown",
      "source": [
        "19. A large standard error suggests a high level of uncertainty in the coefficient estimate, making it less reliable."
      ],
      "metadata": {
        "id": "5rs0HZOjfmWc"
      }
    },
    {
      "cell_type": "markdown",
      "source": [
        "20.\n",
        "\n",
        "*  Identified using scatterplots (cone-shaped patterns)\n",
        "*   Addressing it ensures reliable standard errors and hypothesis tests\n",
        "\n"
      ],
      "metadata": {
        "id": "s7fV-cJwfqaB"
      }
    },
    {
      "cell_type": "markdown",
      "source": [
        "21. It suggests that additional independent variables are not contributing significantly to the model."
      ],
      "metadata": {
        "id": "NgWXCQYtf1Ac"
      }
    },
    {
      "cell_type": "markdown",
      "source": [
        "22. Scaling prevents certain features from dominating the model, improving numerical stability and model performance."
      ],
      "metadata": {
        "id": "KPZ5wXeVf4FE"
      }
    },
    {
      "cell_type": "markdown",
      "source": [
        "23. A regression model that includes polynomial terms (e.g., X^2, X^3 ) to capture non-linear relationships."
      ],
      "metadata": {
        "id": "o73Z6VWvf7eg"
      }
    },
    {
      "cell_type": "markdown",
      "source": [
        "24. Polynomial regression models non-linear relationships, whereas linear regression models only straight-line relationships."
      ],
      "metadata": {
        "id": "C-s5s4e1gJI6"
      }
    },
    {
      "cell_type": "markdown",
      "source": [
        "25. When the relationship between dependent and independent variables is non-linear."
      ],
      "metadata": {
        "id": "m3ZXirk3gMxJ"
      }
    },
    {
      "cell_type": "markdown",
      "source": [
        "26. [ y = \\beta_0 + \\beta_1 x + \\beta_2 x^2 + \\beta_3 x^3 + \\ldots + \\beta_n x^n + \\epsilon ]"
      ],
      "metadata": {
        "id": "KeSjhZ0QgRII"
      }
    },
    {
      "cell_type": "markdown",
      "source": [
        "27. Yes, it extends to multiple independent variables."
      ],
      "metadata": {
        "id": "Oev9ViaYgbVV"
      }
    },
    {
      "cell_type": "markdown",
      "source": [
        "28.\n",
        "*  Overfitting with high-degree polynomials\n",
        "*  Sensitive to outliers\n",
        "*  Hard to interpret\n",
        "\n",
        "\n"
      ],
      "metadata": {
        "id": "RO3FX5A_gfHQ"
      }
    },
    {
      "cell_type": "markdown",
      "source": [
        "29.\n",
        "\n",
        "*   Cross-validation\n",
        "*   Adjusted 𝑅^2\n",
        "*  Mean Squared Error (MSE)\n",
        "\n",
        "\n"
      ],
      "metadata": {
        "id": "4J3eYN7IgsRD"
      }
    },
    {
      "cell_type": "markdown",
      "source": [
        "30. It helps in selecting the right polynomial degree and detecting overfitting."
      ],
      "metadata": {
        "id": "Y2HSYXbbg7EQ"
      }
    },
    {
      "cell_type": "markdown",
      "source": [
        "31."
      ],
      "metadata": {
        "id": "cqDeowFihA33"
      }
    },
    {
      "cell_type": "code",
      "source": [
        "from sklearn.preprocessing import PolynomialFeatures\n",
        "from sklearn.linear_model import LinearRegression\n",
        "import numpy as np\n",
        "\n",
        "X = np.array([1, 2, 3, 4, 5]).reshape(-1, 1)\n",
        "y = np.array([2, 5, 10, 17, 26])\n",
        "\n",
        "poly = PolynomialFeatures(degree=2)\n",
        "X_poly = poly.fit_transform(X)\n",
        "\n",
        "model = LinearRegression()\n",
        "model.fit(X_poly, y)\n",
        "y_pred = model.predict(X_poly)\n"
      ],
      "metadata": {
        "id": "rYPQak03hCNm"
      },
      "execution_count": null,
      "outputs": []
    }
  ]
}